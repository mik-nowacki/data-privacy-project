{
 "cells": [
  {
   "cell_type": "markdown",
   "id": "7156b2a3",
   "metadata": {},
   "source": [
    "# Linkage attack"
   ]
  },
  {
   "cell_type": "code",
   "execution_count": 1,
   "id": "8c4085e1",
   "metadata": {},
   "outputs": [],
   "source": [
    "import requests\n",
    "import pandas as pd\n",
    "\n",
    "med_data = requests.get('http://localhost:8000/api/meddata/deidentified').json()\n",
    "med_data_k_anonymous = requests.get('http://localhost:8000/api/meddata/k_anonymous').json()\n",
    "work_data = requests.get('http://localhost:8000/api/workdata').json()"
   ]
  },
  {
   "cell_type": "code",
   "execution_count": 2,
   "id": "ca2c85de",
   "metadata": {},
   "outputs": [],
   "source": [
    "med_df = pd.DataFrame(med_data)\n",
    "work_df = pd.DataFrame(work_data)\n",
    "med_k_anonymous_df = pd.DataFrame(med_data_k_anonymous)"
   ]
  },
  {
   "cell_type": "code",
   "execution_count": 3,
   "id": "3491813a",
   "metadata": {},
   "outputs": [
    {
     "data": {
      "text/html": [
       "<div>\n",
       "<style scoped>\n",
       "    .dataframe tbody tr th:only-of-type {\n",
       "        vertical-align: middle;\n",
       "    }\n",
       "\n",
       "    .dataframe tbody tr th {\n",
       "        vertical-align: top;\n",
       "    }\n",
       "\n",
       "    .dataframe thead th {\n",
       "        text-align: right;\n",
       "    }\n",
       "</style>\n",
       "<table border=\"1\" class=\"dataframe\">\n",
       "  <thead>\n",
       "    <tr style=\"text-align: right;\">\n",
       "      <th></th>\n",
       "      <th>id</th>\n",
       "      <th>age</th>\n",
       "      <th>gender</th>\n",
       "      <th>postalCode</th>\n",
       "      <th>diagnosis</th>\n",
       "    </tr>\n",
       "  </thead>\n",
       "  <tbody>\n",
       "    <tr>\n",
       "      <th>0</th>\n",
       "      <td>7fc7f226-249f-4384-98d1-fc75a8b19008</td>\n",
       "      <td>20 - 24</td>\n",
       "      <td>Male</td>\n",
       "      <td>496770***</td>\n",
       "      <td>V9107XA</td>\n",
       "    </tr>\n",
       "    <tr>\n",
       "      <th>1</th>\n",
       "      <td>314e95ab-2715-44fe-9ccb-3114ab61d7fd</td>\n",
       "      <td>20 - 24</td>\n",
       "      <td>Female</td>\n",
       "      <td>207211***</td>\n",
       "      <td>T82328A</td>\n",
       "    </tr>\n",
       "    <tr>\n",
       "      <th>2</th>\n",
       "      <td>17d0c6b2-6ea1-4f41-840f-84665888a2df</td>\n",
       "      <td>25 - 29</td>\n",
       "      <td>Male</td>\n",
       "      <td>939303***</td>\n",
       "      <td>S92403K</td>\n",
       "    </tr>\n",
       "    <tr>\n",
       "      <th>3</th>\n",
       "      <td>e4e72cdd-6e70-40b6-add9-ce09b2e623db</td>\n",
       "      <td>15 - 19</td>\n",
       "      <td>Female</td>\n",
       "      <td>295269***</td>\n",
       "      <td>C8197</td>\n",
       "    </tr>\n",
       "    <tr>\n",
       "      <th>4</th>\n",
       "      <td>d0b1ecff-7d1a-41be-ac48-bb966e2fd6e3</td>\n",
       "      <td>20 - 24</td>\n",
       "      <td>Male</td>\n",
       "      <td>420641***</td>\n",
       "      <td>V9206XA</td>\n",
       "    </tr>\n",
       "  </tbody>\n",
       "</table>\n",
       "</div>"
      ],
      "text/plain": [
       "                                     id      age  gender postalCode diagnosis\n",
       "0  7fc7f226-249f-4384-98d1-fc75a8b19008  20 - 24    Male  496770***   V9107XA\n",
       "1  314e95ab-2715-44fe-9ccb-3114ab61d7fd  20 - 24  Female  207211***   T82328A\n",
       "2  17d0c6b2-6ea1-4f41-840f-84665888a2df  25 - 29    Male  939303***   S92403K\n",
       "3  e4e72cdd-6e70-40b6-add9-ce09b2e623db  15 - 19  Female  295269***     C8197\n",
       "4  d0b1ecff-7d1a-41be-ac48-bb966e2fd6e3  20 - 24    Male  420641***   V9206XA"
      ]
     },
     "execution_count": 3,
     "metadata": {},
     "output_type": "execute_result"
    }
   ],
   "source": [
    "med_df.head()"
   ]
  },
  {
   "cell_type": "code",
   "execution_count": 4,
   "id": "1dc8e44d",
   "metadata": {},
   "outputs": [
    {
     "data": {
      "text/html": [
       "<div>\n",
       "<style scoped>\n",
       "    .dataframe tbody tr th:only-of-type {\n",
       "        vertical-align: middle;\n",
       "    }\n",
       "\n",
       "    .dataframe tbody tr th {\n",
       "        vertical-align: top;\n",
       "    }\n",
       "\n",
       "    .dataframe thead th {\n",
       "        text-align: right;\n",
       "    }\n",
       "</style>\n",
       "<table border=\"1\" class=\"dataframe\">\n",
       "  <thead>\n",
       "    <tr style=\"text-align: right;\">\n",
       "      <th></th>\n",
       "      <th>id</th>\n",
       "      <th>age</th>\n",
       "      <th>gender</th>\n",
       "      <th>postalCode</th>\n",
       "      <th>diagnosis</th>\n",
       "    </tr>\n",
       "  </thead>\n",
       "  <tbody>\n",
       "    <tr>\n",
       "      <th>0</th>\n",
       "      <td>927c3780-900f-4230-a7c5-843fb4f3c93b</td>\n",
       "      <td>28-36</td>\n",
       "      <td>*</td>\n",
       "      <td>00*******</td>\n",
       "      <td>V80919A</td>\n",
       "    </tr>\n",
       "    <tr>\n",
       "      <th>1</th>\n",
       "      <td>51323ee8-c535-4200-b974-7cd6d3f611ec</td>\n",
       "      <td>28-36</td>\n",
       "      <td>*</td>\n",
       "      <td>00*******</td>\n",
       "      <td>H30043</td>\n",
       "    </tr>\n",
       "    <tr>\n",
       "      <th>2</th>\n",
       "      <td>7d50e5ea-15ec-43d3-be25-10cc70df38a8</td>\n",
       "      <td>28-36</td>\n",
       "      <td>*</td>\n",
       "      <td>00*******</td>\n",
       "      <td>S948X1A</td>\n",
       "    </tr>\n",
       "    <tr>\n",
       "      <th>3</th>\n",
       "      <td>b8331cb4-a5f1-449c-85e4-f1d5454f6f9d</td>\n",
       "      <td>28-36</td>\n",
       "      <td>*</td>\n",
       "      <td>00***</td>\n",
       "      <td>I090</td>\n",
       "    </tr>\n",
       "    <tr>\n",
       "      <th>4</th>\n",
       "      <td>de8bf190-ca7a-45f3-a4ec-180dc8aa4d73</td>\n",
       "      <td>28-36</td>\n",
       "      <td>*</td>\n",
       "      <td>00*******</td>\n",
       "      <td>S60476</td>\n",
       "    </tr>\n",
       "  </tbody>\n",
       "</table>\n",
       "</div>"
      ],
      "text/plain": [
       "                                     id    age gender postalCode diagnosis\n",
       "0  927c3780-900f-4230-a7c5-843fb4f3c93b  28-36      *  00*******   V80919A\n",
       "1  51323ee8-c535-4200-b974-7cd6d3f611ec  28-36      *  00*******    H30043\n",
       "2  7d50e5ea-15ec-43d3-be25-10cc70df38a8  28-36      *  00*******   S948X1A\n",
       "3  b8331cb4-a5f1-449c-85e4-f1d5454f6f9d  28-36      *      00***      I090\n",
       "4  de8bf190-ca7a-45f3-a4ec-180dc8aa4d73  28-36      *  00*******    S60476"
      ]
     },
     "execution_count": 4,
     "metadata": {},
     "output_type": "execute_result"
    }
   ],
   "source": [
    "med_k_anonymous_df.head()"
   ]
  },
  {
   "cell_type": "code",
   "execution_count": 5,
   "id": "e3585ec1",
   "metadata": {},
   "outputs": [
    {
     "data": {
      "text/html": [
       "<div>\n",
       "<style scoped>\n",
       "    .dataframe tbody tr th:only-of-type {\n",
       "        vertical-align: middle;\n",
       "    }\n",
       "\n",
       "    .dataframe tbody tr th {\n",
       "        vertical-align: top;\n",
       "    }\n",
       "\n",
       "    .dataframe thead th {\n",
       "        text-align: right;\n",
       "    }\n",
       "</style>\n",
       "<table border=\"1\" class=\"dataframe\">\n",
       "  <thead>\n",
       "    <tr style=\"text-align: right;\">\n",
       "      <th></th>\n",
       "      <th>id</th>\n",
       "      <th>postalCode</th>\n",
       "      <th>education</th>\n",
       "      <th>gender</th>\n",
       "      <th>workplace</th>\n",
       "      <th>department</th>\n",
       "      <th>fname</th>\n",
       "      <th>lname</th>\n",
       "    </tr>\n",
       "  </thead>\n",
       "  <tbody>\n",
       "    <tr>\n",
       "      <th>0</th>\n",
       "      <td>1</td>\n",
       "      <td>133261301</td>\n",
       "      <td>Fachhochschule Bonn-Rhein-Sieg</td>\n",
       "      <td>Female</td>\n",
       "      <td>Schamberger Group</td>\n",
       "      <td>Product Management</td>\n",
       "      <td>Tamqrah</td>\n",
       "      <td>Shawdforth</td>\n",
       "    </tr>\n",
       "    <tr>\n",
       "      <th>1</th>\n",
       "      <td>2</td>\n",
       "      <td>64744</td>\n",
       "      <td>Chaudhary Charan Singh University</td>\n",
       "      <td>Female</td>\n",
       "      <td>Gutmann</td>\n",
       "      <td>Cummings and Cormier</td>\n",
       "      <td>Ardys</td>\n",
       "      <td>Ferenczi</td>\n",
       "    </tr>\n",
       "    <tr>\n",
       "      <th>2</th>\n",
       "      <td>3</td>\n",
       "      <td>62606</td>\n",
       "      <td>University of Sudbury</td>\n",
       "      <td>Female</td>\n",
       "      <td>Doyle</td>\n",
       "      <td>Powlowski and Leuschke</td>\n",
       "      <td>Margette</td>\n",
       "      <td>Dibner</td>\n",
       "    </tr>\n",
       "    <tr>\n",
       "      <th>3</th>\n",
       "      <td>4</td>\n",
       "      <td>593301943</td>\n",
       "      <td>University College Cork</td>\n",
       "      <td>Female</td>\n",
       "      <td>Jenkins Inc</td>\n",
       "      <td>Training</td>\n",
       "      <td>Libby</td>\n",
       "      <td>Gandrich</td>\n",
       "    </tr>\n",
       "    <tr>\n",
       "      <th>4</th>\n",
       "      <td>5</td>\n",
       "      <td>006311003</td>\n",
       "      <td>University of West Hungary</td>\n",
       "      <td>Male</td>\n",
       "      <td>VonRueden-Dooley</td>\n",
       "      <td>Marketing</td>\n",
       "      <td>Lennard</td>\n",
       "      <td>Castelin</td>\n",
       "    </tr>\n",
       "  </tbody>\n",
       "</table>\n",
       "</div>"
      ],
      "text/plain": [
       "   id postalCode                          education  gender  \\\n",
       "0   1  133261301     Fachhochschule Bonn-Rhein-Sieg  Female   \n",
       "1   2      64744  Chaudhary Charan Singh University  Female   \n",
       "2   3      62606              University of Sudbury  Female   \n",
       "3   4  593301943            University College Cork  Female   \n",
       "4   5  006311003         University of West Hungary    Male   \n",
       "\n",
       "           workplace               department     fname       lname  \n",
       "0  Schamberger Group       Product Management   Tamqrah  Shawdforth  \n",
       "1            Gutmann     Cummings and Cormier     Ardys    Ferenczi  \n",
       "2              Doyle   Powlowski and Leuschke  Margette      Dibner  \n",
       "3        Jenkins Inc                 Training     Libby    Gandrich  \n",
       "4   VonRueden-Dooley                Marketing   Lennard    Castelin  "
      ]
     },
     "execution_count": 5,
     "metadata": {},
     "output_type": "execute_result"
    }
   ],
   "source": [
    "work_df.head()"
   ]
  },
  {
   "cell_type": "code",
   "execution_count": 6,
   "id": "e2968902",
   "metadata": {},
   "outputs": [],
   "source": [
    "def degeneralize_age(age_range):\n",
    "    age_lower, _ = age_range.replace(\" \", \"\").split(\"-\")\n",
    "    return int(age_lower)"
   ]
  },
  {
   "cell_type": "code",
   "execution_count": 7,
   "id": "f37fd47f",
   "metadata": {},
   "outputs": [],
   "source": [
    "def suppress_post_code(code):\n",
    "    # suppress code to first three digits\n",
    "    post_code_supped = str(code)[:2] + \"***\"\n",
    "    return post_code_supped"
   ]
  },
  {
   "cell_type": "code",
   "execution_count": 8,
   "id": "e84bcc6e",
   "metadata": {},
   "outputs": [
    {
     "data": {
      "text/html": [
       "<div>\n",
       "<style scoped>\n",
       "    .dataframe tbody tr th:only-of-type {\n",
       "        vertical-align: middle;\n",
       "    }\n",
       "\n",
       "    .dataframe tbody tr th {\n",
       "        vertical-align: top;\n",
       "    }\n",
       "\n",
       "    .dataframe thead th {\n",
       "        text-align: right;\n",
       "    }\n",
       "</style>\n",
       "<table border=\"1\" class=\"dataframe\">\n",
       "  <thead>\n",
       "    <tr style=\"text-align: right;\">\n",
       "      <th></th>\n",
       "      <th>id</th>\n",
       "      <th>postalCode</th>\n",
       "      <th>education</th>\n",
       "      <th>gender</th>\n",
       "      <th>workplace</th>\n",
       "      <th>department</th>\n",
       "      <th>fname</th>\n",
       "      <th>lname</th>\n",
       "    </tr>\n",
       "  </thead>\n",
       "  <tbody>\n",
       "    <tr>\n",
       "      <th>0</th>\n",
       "      <td>1</td>\n",
       "      <td>13***</td>\n",
       "      <td>Fachhochschule Bonn-Rhein-Sieg</td>\n",
       "      <td>Female</td>\n",
       "      <td>Schamberger Group</td>\n",
       "      <td>Product Management</td>\n",
       "      <td>Tamqrah</td>\n",
       "      <td>Shawdforth</td>\n",
       "    </tr>\n",
       "    <tr>\n",
       "      <th>1</th>\n",
       "      <td>2</td>\n",
       "      <td>64***</td>\n",
       "      <td>Chaudhary Charan Singh University</td>\n",
       "      <td>Female</td>\n",
       "      <td>Gutmann</td>\n",
       "      <td>Cummings and Cormier</td>\n",
       "      <td>Ardys</td>\n",
       "      <td>Ferenczi</td>\n",
       "    </tr>\n",
       "    <tr>\n",
       "      <th>2</th>\n",
       "      <td>3</td>\n",
       "      <td>62***</td>\n",
       "      <td>University of Sudbury</td>\n",
       "      <td>Female</td>\n",
       "      <td>Doyle</td>\n",
       "      <td>Powlowski and Leuschke</td>\n",
       "      <td>Margette</td>\n",
       "      <td>Dibner</td>\n",
       "    </tr>\n",
       "    <tr>\n",
       "      <th>3</th>\n",
       "      <td>4</td>\n",
       "      <td>59***</td>\n",
       "      <td>University College Cork</td>\n",
       "      <td>Female</td>\n",
       "      <td>Jenkins Inc</td>\n",
       "      <td>Training</td>\n",
       "      <td>Libby</td>\n",
       "      <td>Gandrich</td>\n",
       "    </tr>\n",
       "    <tr>\n",
       "      <th>4</th>\n",
       "      <td>5</td>\n",
       "      <td>00***</td>\n",
       "      <td>University of West Hungary</td>\n",
       "      <td>Male</td>\n",
       "      <td>VonRueden-Dooley</td>\n",
       "      <td>Marketing</td>\n",
       "      <td>Lennard</td>\n",
       "      <td>Castelin</td>\n",
       "    </tr>\n",
       "  </tbody>\n",
       "</table>\n",
       "</div>"
      ],
      "text/plain": [
       "   id postalCode                          education  gender  \\\n",
       "0   1      13***     Fachhochschule Bonn-Rhein-Sieg  Female   \n",
       "1   2      64***  Chaudhary Charan Singh University  Female   \n",
       "2   3      62***              University of Sudbury  Female   \n",
       "3   4      59***            University College Cork  Female   \n",
       "4   5      00***         University of West Hungary    Male   \n",
       "\n",
       "           workplace               department     fname       lname  \n",
       "0  Schamberger Group       Product Management   Tamqrah  Shawdforth  \n",
       "1            Gutmann     Cummings and Cormier     Ardys    Ferenczi  \n",
       "2              Doyle   Powlowski and Leuschke  Margette      Dibner  \n",
       "3        Jenkins Inc                 Training     Libby    Gandrich  \n",
       "4   VonRueden-Dooley                Marketing   Lennard    Castelin  "
      ]
     },
     "execution_count": 8,
     "metadata": {},
     "output_type": "execute_result"
    }
   ],
   "source": [
    "work_df['postalCode'] = work_df['postalCode'].apply(suppress_post_code)\n",
    "work_df.head()"
   ]
  },
  {
   "cell_type": "code",
   "execution_count": 9,
   "id": "1cb0898e",
   "metadata": {},
   "outputs": [],
   "source": [
    "def linkage_attack(med_df, work_df):\n",
    "    matches = pd.merge(\n",
    "        work_df, \n",
    "        med_df, \n",
    "        on=['postalCode', 'gender'],\n",
    "        how='inner',\n",
    "        suffixes=('_work', '_med')\n",
    "    )\n",
    "    unique_matches = matches[matches.groupby(['fname', 'lname'])['fname'].transform('size') == 1]\n",
    "    count = len(unique_matches)\n",
    "    return unique_matches, count"
   ]
  },
  {
   "cell_type": "markdown",
   "id": "f258333c",
   "metadata": {},
   "source": [
    "# Deidentified dataset"
   ]
  },
  {
   "cell_type": "code",
   "execution_count": 10,
   "id": "f8039505",
   "metadata": {},
   "outputs": [],
   "source": [
    "matches, count = linkage_attack(med_df, work_df)"
   ]
  },
  {
   "cell_type": "code",
   "execution_count": 11,
   "id": "347a7987",
   "metadata": {},
   "outputs": [
    {
     "data": {
      "text/html": [
       "<div>\n",
       "<style scoped>\n",
       "    .dataframe tbody tr th:only-of-type {\n",
       "        vertical-align: middle;\n",
       "    }\n",
       "\n",
       "    .dataframe tbody tr th {\n",
       "        vertical-align: top;\n",
       "    }\n",
       "\n",
       "    .dataframe thead th {\n",
       "        text-align: right;\n",
       "    }\n",
       "</style>\n",
       "<table border=\"1\" class=\"dataframe\">\n",
       "  <thead>\n",
       "    <tr style=\"text-align: right;\">\n",
       "      <th></th>\n",
       "      <th>id_work</th>\n",
       "      <th>postalCode</th>\n",
       "      <th>education</th>\n",
       "      <th>gender</th>\n",
       "      <th>workplace</th>\n",
       "      <th>department</th>\n",
       "      <th>fname</th>\n",
       "      <th>lname</th>\n",
       "      <th>id_med</th>\n",
       "      <th>age</th>\n",
       "      <th>diagnosis</th>\n",
       "    </tr>\n",
       "  </thead>\n",
       "  <tbody>\n",
       "    <tr>\n",
       "      <th>0</th>\n",
       "      <td>2</td>\n",
       "      <td>64***</td>\n",
       "      <td>Chaudhary Charan Singh University</td>\n",
       "      <td>Female</td>\n",
       "      <td>Gutmann</td>\n",
       "      <td>Cummings and Cormier</td>\n",
       "      <td>Ardys</td>\n",
       "      <td>Ferenczi</td>\n",
       "      <td>fdeb7856-bd94-47fc-ab09-3aa974ebf084</td>\n",
       "      <td>50 - 54</td>\n",
       "      <td>T343XXS</td>\n",
       "    </tr>\n",
       "    <tr>\n",
       "      <th>1</th>\n",
       "      <td>5</td>\n",
       "      <td>00***</td>\n",
       "      <td>University of West Hungary</td>\n",
       "      <td>Male</td>\n",
       "      <td>VonRueden-Dooley</td>\n",
       "      <td>Marketing</td>\n",
       "      <td>Lennard</td>\n",
       "      <td>Castelin</td>\n",
       "      <td>35fb7243-d9ef-42b1-ac57-b0dedad67e21</td>\n",
       "      <td>40 - 44</td>\n",
       "      <td>S93302A</td>\n",
       "    </tr>\n",
       "    <tr>\n",
       "      <th>2</th>\n",
       "      <td>6</td>\n",
       "      <td>67***</td>\n",
       "      <td>Open University of Hong Kong</td>\n",
       "      <td>Male</td>\n",
       "      <td>Yundt-Monahan</td>\n",
       "      <td>Human Resources</td>\n",
       "      <td>Nicol</td>\n",
       "      <td>Hacard</td>\n",
       "      <td>1490dbbc-03f4-4728-91e4-0423f4e3de77</td>\n",
       "      <td>70 - 74</td>\n",
       "      <td>R25</td>\n",
       "    </tr>\n",
       "    <tr>\n",
       "      <th>12</th>\n",
       "      <td>18</td>\n",
       "      <td>77***</td>\n",
       "      <td>Ulyanovsk State Technical University</td>\n",
       "      <td>Male</td>\n",
       "      <td>Powlowski-Watsica</td>\n",
       "      <td>Sales</td>\n",
       "      <td>Meade</td>\n",
       "      <td>Yukhnevich</td>\n",
       "      <td>1aeabd2f-cf69-4a81-8fe2-9349ac0c80e8</td>\n",
       "      <td>40 - 44</td>\n",
       "      <td>Z0541</td>\n",
       "    </tr>\n",
       "    <tr>\n",
       "      <th>13</th>\n",
       "      <td>20</td>\n",
       "      <td>92***</td>\n",
       "      <td>Columbia College of Missouri</td>\n",
       "      <td>Female</td>\n",
       "      <td>Trantow</td>\n",
       "      <td>Kozey and Kertzmann</td>\n",
       "      <td>Bobbe</td>\n",
       "      <td>Hagstone</td>\n",
       "      <td>9f8759ef-8350-4066-a908-25fb0a0056bb</td>\n",
       "      <td>45 - 49</td>\n",
       "      <td>T485X1S</td>\n",
       "    </tr>\n",
       "  </tbody>\n",
       "</table>\n",
       "</div>"
      ],
      "text/plain": [
       "    id_work postalCode                             education  gender  \\\n",
       "0         2      64***     Chaudhary Charan Singh University  Female   \n",
       "1         5      00***            University of West Hungary    Male   \n",
       "2         6      67***          Open University of Hong Kong    Male   \n",
       "12       18      77***  Ulyanovsk State Technical University    Male   \n",
       "13       20      92***          Columbia College of Missouri  Female   \n",
       "\n",
       "            workplace             department    fname       lname  \\\n",
       "0             Gutmann   Cummings and Cormier    Ardys    Ferenczi   \n",
       "1    VonRueden-Dooley              Marketing  Lennard    Castelin   \n",
       "2       Yundt-Monahan        Human Resources    Nicol      Hacard   \n",
       "12  Powlowski-Watsica                  Sales    Meade  Yukhnevich   \n",
       "13            Trantow    Kozey and Kertzmann    Bobbe    Hagstone   \n",
       "\n",
       "                                  id_med      age diagnosis  \n",
       "0   fdeb7856-bd94-47fc-ab09-3aa974ebf084  50 - 54   T343XXS  \n",
       "1   35fb7243-d9ef-42b1-ac57-b0dedad67e21  40 - 44   S93302A  \n",
       "2   1490dbbc-03f4-4728-91e4-0423f4e3de77  70 - 74       R25  \n",
       "12  1aeabd2f-cf69-4a81-8fe2-9349ac0c80e8  40 - 44     Z0541  \n",
       "13  9f8759ef-8350-4066-a908-25fb0a0056bb  45 - 49   T485X1S  "
      ]
     },
     "execution_count": 11,
     "metadata": {},
     "output_type": "execute_result"
    }
   ],
   "source": [
    "matches.head()"
   ]
  },
  {
   "cell_type": "code",
   "execution_count": 12,
   "id": "0b1b13d9",
   "metadata": {},
   "outputs": [
    {
     "data": {
      "text/plain": [
       "194"
      ]
     },
     "execution_count": 12,
     "metadata": {},
     "output_type": "execute_result"
    }
   ],
   "source": [
    "count"
   ]
  },
  {
   "cell_type": "markdown",
   "id": "05ce3053",
   "metadata": {},
   "source": [
    "the linkage attack managed to re-identify 362 individuals. Which is a very successful attack."
   ]
  },
  {
   "cell_type": "markdown",
   "id": "6c69741b",
   "metadata": {},
   "source": [
    "# K anonymous dataset\n"
   ]
  },
  {
   "cell_type": "code",
   "execution_count": 13,
   "id": "3a1d1e9f",
   "metadata": {},
   "outputs": [],
   "source": [
    "matches, count = linkage_attack(med_k_anonymous_df, work_df)"
   ]
  },
  {
   "cell_type": "code",
   "execution_count": 14,
   "id": "0991ec98",
   "metadata": {},
   "outputs": [
    {
     "data": {
      "text/html": [
       "<div>\n",
       "<style scoped>\n",
       "    .dataframe tbody tr th:only-of-type {\n",
       "        vertical-align: middle;\n",
       "    }\n",
       "\n",
       "    .dataframe tbody tr th {\n",
       "        vertical-align: top;\n",
       "    }\n",
       "\n",
       "    .dataframe thead th {\n",
       "        text-align: right;\n",
       "    }\n",
       "</style>\n",
       "<table border=\"1\" class=\"dataframe\">\n",
       "  <thead>\n",
       "    <tr style=\"text-align: right;\">\n",
       "      <th></th>\n",
       "      <th>id_work</th>\n",
       "      <th>postalCode</th>\n",
       "      <th>education</th>\n",
       "      <th>gender</th>\n",
       "      <th>workplace</th>\n",
       "      <th>department</th>\n",
       "      <th>fname</th>\n",
       "      <th>lname</th>\n",
       "      <th>id_med</th>\n",
       "      <th>age</th>\n",
       "      <th>diagnosis</th>\n",
       "    </tr>\n",
       "  </thead>\n",
       "  <tbody>\n",
       "  </tbody>\n",
       "</table>\n",
       "</div>"
      ],
      "text/plain": [
       "Empty DataFrame\n",
       "Columns: [id_work, postalCode, education, gender, workplace, department, fname, lname, id_med, age, diagnosis]\n",
       "Index: []"
      ]
     },
     "execution_count": 14,
     "metadata": {},
     "output_type": "execute_result"
    }
   ],
   "source": [
    "matches.head()"
   ]
  },
  {
   "cell_type": "code",
   "execution_count": 15,
   "id": "c5f61ae0",
   "metadata": {},
   "outputs": [
    {
     "data": {
      "text/plain": [
       "0"
      ]
     },
     "execution_count": 15,
     "metadata": {},
     "output_type": "execute_result"
    }
   ],
   "source": [
    "count"
   ]
  },
  {
   "cell_type": "markdown",
   "id": "e7120e2f",
   "metadata": {},
   "source": [
    "the linkage attack managed to re-identify 25 individuals. Which is a significantly less than on dataset without k anonimity"
   ]
  }
 ],
 "metadata": {
  "kernelspec": {
   "display_name": "Python 3",
   "language": "python",
   "name": "python3"
  },
  "language_info": {
   "codemirror_mode": {
    "name": "ipython",
    "version": 3
   },
   "file_extension": ".py",
   "mimetype": "text/x-python",
   "name": "python",
   "nbconvert_exporter": "python",
   "pygments_lexer": "ipython3",
   "version": "3.13.7"
  }
 },
 "nbformat": 4,
 "nbformat_minor": 5
}
